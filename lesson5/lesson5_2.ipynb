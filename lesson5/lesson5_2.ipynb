{
 "cells": [
  {
   "cell_type": "code",
   "execution_count": 1,
   "id": "067fb5ae",
   "metadata": {},
   "outputs": [
    {
     "name": "stdout",
     "output_type": "stream",
     "text": [
      "總分不得超過300分\n",
      "應用程式結束\n"
     ]
    }
   ],
   "source": [
    "#學生總分為300\n",
    "#有些學生可以加分5%\n",
    "\n",
    "try:\n",
    "    scores = int(input(\"請輸入學生分數(最高300):\"))\n",
    "    if scores <= 300:\n",
    "        is_add = input(\"學生是否符合加分條件?(y,n)\")\n",
    "\n",
    "        if is_add == \"y\": #單項選擇\n",
    "            scores *= 1.05\n",
    "            if scores > 300:\n",
    "                scores = 300\n",
    "\n",
    "        print(\"學生總分是:\", round(scores))\n",
    "    else:\n",
    "        raise Exception (\"總分不得超過300分\")   #自己 raise Exception\n",
    "\n",
    "except ValueError as error:\n",
    "    print(\"格式錯誤\",error)\n",
    "\n",
    "except Exception as error:\n",
    "    print(error)\n",
    "\n",
    "print(\"應用程式結束\")"
   ]
  }
 ],
 "metadata": {
  "kernelspec": {
   "display_name": "base",
   "language": "python",
   "name": "python3"
  },
  "language_info": {
   "codemirror_mode": {
    "name": "ipython",
    "version": 3
   },
   "file_extension": ".py",
   "mimetype": "text/x-python",
   "name": "python",
   "nbconvert_exporter": "python",
   "pygments_lexer": "ipython3",
   "version": "3.13.2"
  }
 },
 "nbformat": 4,
 "nbformat_minor": 5
}
