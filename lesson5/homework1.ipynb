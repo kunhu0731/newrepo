{
 "cells": [
  {
   "cell_type": "code",
   "execution_count": null,
   "id": "d8dac0bb",
   "metadata": {},
   "outputs": [
    {
     "name": "stdout",
     "output_type": "stream",
     "text": [
      "你的BMI為: 19.03\n"
     ]
    }
   ],
   "source": [
    "try:\n",
    "\n",
    "    cmtall = float(input(\"請輸入身高(120~250 cm)\"))\n",
    "    if cmtall >= 120 and cmtall <= 250:\n",
    "        weight = float(input(\"請輸入體重(30~200 kg)\"))\n",
    "\n",
    "        if weight >= 30 and weight <= 200:\n",
    "            mtall = cmtall / 100\n",
    "            bmi = round(weight / mtall ** 2,2)\n",
    "            print(\"你的BMI為:\",bmi)\n",
    "        else:\n",
    "            print(\"輸入之體重不在範圍內，請重新輸入\")\n",
    "    else:\n",
    "        print(\"輸入之身高不在範圍內，請重新輸入\")\n",
    "    \n",
    "except ValueError as error:\n",
    "    print(\"格式錯誤\",error)\n",
    "except:\n",
    "    print(\"未知的錯誤\")"
   ]
  },
  {
   "cell_type": "code",
   "execution_count": 27,
   "id": "68ed1eb6",
   "metadata": {},
   "outputs": [
    {
     "name": "stdout",
     "output_type": "stream",
     "text": [
      "輸入之身高不在範圍內，請重新輸入\n"
     ]
    }
   ],
   "source": [
    "try:\n",
    "\n",
    "    cmtall = float(input(\"請輸入身高(120~250 cm)\"))\n",
    "    if cmtall >= 120 and cmtall <= 250:\n",
    "        weight = float(input(\"請輸入體重(30~200 kg)\"))\n",
    "\n",
    "        if weight >= 30 and weight <= 200:\n",
    "            mtall = cmtall / 100\n",
    "            bmi = round(weight / mtall ** 2,2)\n",
    "            print(\"你輸入的身高為:\",cmtall)\n",
    "            print(\"你輸入的體重為:\",weight)\n",
    "            print(\"你的BMI為:\",bmi)\n",
    "            \n",
    "            if bmi >= 18.5 and bmi <= 24:\n",
    "                print(\"你的體重正常\")\n",
    "            elif bmi < 18.5:\n",
    "                print(\"你的體重過輕\")\n",
    "            else:\n",
    "                print(\"你的體重過重\")\n",
    "\n",
    "        else:\n",
    "            print(\"輸入之體重不在範圍內，請重新輸入\")\n",
    "    else:\n",
    "        print(\"輸入之身高不在範圍內，請重新輸入\")\n",
    "    \n",
    "except ValueError as error:\n",
    "    print(\"格式錯誤\",error)\n",
    "except:\n",
    "    print(\"未知的錯誤\")"
   ]
  }
 ],
 "metadata": {
  "kernelspec": {
   "display_name": "base",
   "language": "python",
   "name": "python3"
  },
  "language_info": {
   "codemirror_mode": {
    "name": "ipython",
    "version": 3
   },
   "file_extension": ".py",
   "mimetype": "text/x-python",
   "name": "python",
   "nbconvert_exporter": "python",
   "pygments_lexer": "ipython3",
   "version": "3.13.2"
  }
 },
 "nbformat": 4,
 "nbformat_minor": 5
}
