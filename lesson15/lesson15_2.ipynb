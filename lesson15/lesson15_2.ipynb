{
 "cells": [
  {
   "cell_type": "code",
   "execution_count": 1,
   "id": "bc63ed31",
   "metadata": {},
   "outputs": [
    {
     "data": {
      "text/plain": [
       "array([ 0, 10, 20, 30, 40, 50, 60, 70, 80, 90])"
      ]
     },
     "execution_count": 1,
     "metadata": {},
     "output_type": "execute_result"
    }
   ],
   "source": [
    "import numpy as np\n",
    "arr = np.arange(10) * 10\n",
    "arr"
   ]
  },
  {
   "cell_type": "code",
   "execution_count": 2,
   "id": "cebd016c",
   "metadata": {},
   "outputs": [
    {
     "data": {
      "text/plain": [
       "array([50, 60, 70, 80, 90])"
      ]
     },
     "execution_count": 2,
     "metadata": {},
     "output_type": "execute_result"
    }
   ],
   "source": [
    "#索引\n",
    "arr[1]\n",
    "\n",
    "#slice\n",
    "arr[:5] #前5個\n",
    "arr[-5:] #最後5個"
   ]
  },
  {
   "cell_type": "code",
   "execution_count": 3,
   "id": "6c5678ce",
   "metadata": {},
   "outputs": [
    {
     "data": {
      "text/plain": [
       "array([[ 60,  93,  56,  55,  77],\n",
       "       [ 72,  61,  97,  80,  56],\n",
       "       [ 85,  61,  92, 100,  63],\n",
       "       [ 94,  66,  90,  68,  81],\n",
       "       [ 61,  64,  85,  50,  68],\n",
       "       [ 90,  78,  58,  94,  94],\n",
       "       [ 99,  76,  78,  75,  63],\n",
       "       [ 82,  56,  59,  56,  68],\n",
       "       [ 59,  53,  86,  99,  75],\n",
       "       [ 99,  57,  68,  66,  74],\n",
       "       [ 83,  76,  58,  64,  90],\n",
       "       [ 61,  69,  98,  70,  59],\n",
       "       [ 53,  86,  93,  80,  78],\n",
       "       [ 92,  71,  79,  50,  55],\n",
       "       [ 84,  91,  89,  68,  89],\n",
       "       [ 80,  55,  65,  66,  87],\n",
       "       [ 67,  52,  76,  70,  96],\n",
       "       [ 61,  85,  62,  73,  53],\n",
       "       [ 53,  54,  87,  52,  61],\n",
       "       [ 77,  93,  65,  62,  87],\n",
       "       [ 60,  91,  65,  57,  98],\n",
       "       [ 89,  71,  78,  75,  84],\n",
       "       [ 82,  77,  96,  70,  55],\n",
       "       [ 77,  98,  64,  82,  75],\n",
       "       [ 57,  79,  54,  64,  80],\n",
       "       [ 56,  72,  85,  67,  84],\n",
       "       [ 82,  81,  77,  72,  69],\n",
       "       [ 84,  98,  76,  54,  82],\n",
       "       [ 65,  69,  53,  98,  88],\n",
       "       [ 73,  95,  54,  64,  98],\n",
       "       [ 62,  85,  84,  92,  52],\n",
       "       [ 62,  57,  52,  89,  88],\n",
       "       [ 64,  81,  94,  81,  64],\n",
       "       [ 91,  95,  67,  71,  58],\n",
       "       [ 95,  53,  94,  98,  80],\n",
       "       [ 95,  60,  86,  57,  93],\n",
       "       [ 63,  50,  55,  72,  72],\n",
       "       [ 92,  65,  68,  91,  97],\n",
       "       [ 65,  99,  68,  94,  98],\n",
       "       [ 86,  96,  87,  83,  52],\n",
       "       [ 77,  57,  88,  90,  92],\n",
       "       [ 98,  53,  50,  77,  54],\n",
       "       [ 91,  70,  91,  90,  93],\n",
       "       [ 96,  77, 100,  67,  80],\n",
       "       [ 54,  80,  81,  72,  86],\n",
       "       [ 73,  57,  63,  95,  71],\n",
       "       [ 89,  88,  70,  96,  55],\n",
       "       [ 87,  65,  90,  60,  80],\n",
       "       [ 74,  98,  50,  99,  99],\n",
       "       [ 74,  62,  99,  77,  94]], dtype=int32)"
      ]
     },
     "execution_count": 3,
     "metadata": {},
     "output_type": "execute_result"
    }
   ],
   "source": [
    "scores = np.random.randint(50,101, size=(50, 5))\n",
    "scores"
   ]
  },
  {
   "cell_type": "code",
   "execution_count": 4,
   "id": "b110d7a1",
   "metadata": {},
   "outputs": [
    {
     "data": {
      "text/plain": [
       "array([[60, 93, 56, 55, 77]], dtype=int32)"
      ]
     },
     "execution_count": 4,
     "metadata": {},
     "output_type": "execute_result"
    }
   ],
   "source": [
    "#第一位學生的分數\n",
    "scores[0] #(5,)\n",
    "scores[0,:] #(5,)\n",
    "scores[0:1,:] #(1, 5)"
   ]
  },
  {
   "cell_type": "code",
   "execution_count": 5,
   "id": "951923d2",
   "metadata": {},
   "outputs": [
    {
     "data": {
      "text/plain": [
       "array([[60, 93, 56],\n",
       "       [72, 61, 97],\n",
       "       [85, 61, 92],\n",
       "       [94, 66, 90],\n",
       "       [61, 64, 85]], dtype=int32)"
      ]
     },
     "execution_count": 5,
     "metadata": {},
     "output_type": "execute_result"
    }
   ],
   "source": [
    "#前5位學生\n",
    "scores[:5]\n",
    "#前5位學生,前3個分數\n",
    "scores[:5,:3]"
   ]
  },
  {
   "cell_type": "code",
   "execution_count": 6,
   "id": "593300f2",
   "metadata": {},
   "outputs": [
    {
     "data": {
      "text/plain": [
       "array([ 56,  97,  92,  90,  85,  58,  78,  59,  86,  68,  58,  98,  93,\n",
       "        79,  89,  65,  76,  62,  87,  65,  65,  78,  96,  64,  54,  85,\n",
       "        77,  76,  53,  54,  84,  52,  94,  67,  94,  86,  55,  68,  68,\n",
       "        87,  88,  50,  91, 100,  81,  63,  70,  90,  50,  99], dtype=int32)"
      ]
     },
     "execution_count": 6,
     "metadata": {},
     "output_type": "execute_result"
    }
   ],
   "source": [
    "#第1科分數\n",
    "scores[:,0]\n",
    "scores[:,1]\n",
    "scores[:,2]"
   ]
  },
  {
   "cell_type": "code",
   "execution_count": 7,
   "id": "22f524ee",
   "metadata": {},
   "outputs": [
    {
     "data": {
      "text/plain": [
       "array([341, 366, 401, 399, 328, 414, 391, 321, 372, 364, 371, 357, 390,\n",
       "       347, 421, 353, 361, 334, 307, 384, 371, 397, 380, 396, 334, 364,\n",
       "       381, 394, 373, 384, 375, 348, 384, 382, 420, 391, 312, 413, 424,\n",
       "       404, 404, 332, 435, 420, 373, 359, 398, 382, 420, 406], dtype=int32)"
      ]
     },
     "execution_count": 7,
     "metadata": {},
     "output_type": "execute_result"
    }
   ],
   "source": [
    "#ndarray可以陣列運算\n",
    "total = scores[:,0] + scores[:,1] + scores[:,2] + scores[:,3] + scores[:,4]\n",
    "total"
   ]
  },
  {
   "cell_type": "code",
   "execution_count": 8,
   "id": "2ed4a557",
   "metadata": {},
   "outputs": [
    {
     "data": {
      "text/plain": [
       "array([68.2, 73.2, 80.2, 79.8, 65.6, 82.8, 78.2, 64.2, 74.4, 72.8, 74.2,\n",
       "       71.4, 78. , 69.4, 84.2, 70.6, 72.2, 66.8, 61.4, 76.8, 74.2, 79.4,\n",
       "       76. , 79.2, 66.8, 72.8, 76.2, 78.8, 74.6, 76.8, 75. , 69.6, 76.8,\n",
       "       76.4, 84. , 78.2, 62.4, 82.6, 84.8, 80.8, 80.8, 66.4, 87. , 84. ,\n",
       "       74.6, 71.8, 79.6, 76.4, 84. , 81.2])"
      ]
     },
     "execution_count": 8,
     "metadata": {},
     "output_type": "execute_result"
    }
   ],
   "source": [
    "total / 5"
   ]
  },
  {
   "cell_type": "code",
   "execution_count": 9,
   "id": "51a2e524",
   "metadata": {},
   "outputs": [
    {
     "data": {
      "text/plain": [
       "array([68.2, 73.2, 80.2, 79.8, 65.6, 82.8, 78.2, 64.2, 74.4, 72.8, 74.2,\n",
       "       71.4, 78. , 69.4, 84.2, 70.6, 72.2, 66.8, 61.4, 76.8, 74.2, 79.4,\n",
       "       76. , 79.2, 66.8, 72.8, 76.2, 78.8, 74.6, 76.8, 75. , 69.6, 76.8,\n",
       "       76.4, 84. , 78.2, 62.4, 82.6, 84.8, 80.8, 80.8, 66.4, 87. , 84. ,\n",
       "       74.6, 71.8, 79.6, 76.4, 84. , 81.2])"
      ]
     },
     "execution_count": 9,
     "metadata": {},
     "output_type": "execute_result"
    }
   ],
   "source": [
    "#np內的function\n",
    "np.sum(scores,axis=1)\n",
    "np.mean(scores,axis=1)\n"
   ]
  },
  {
   "cell_type": "code",
   "execution_count": 10,
   "id": "45e3ae00",
   "metadata": {},
   "outputs": [
    {
     "data": {
      "text/plain": [
       "array([68.2, 73.2, 80.2, 79.8, 65.6, 82.8, 78.2, 64.2, 74.4, 72.8, 74.2,\n",
       "       71.4, 78. , 69.4, 84.2, 70.6, 72.2, 66.8, 61.4, 76.8, 74.2, 79.4,\n",
       "       76. , 79.2, 66.8, 72.8, 76.2, 78.8, 74.6, 76.8, 75. , 69.6, 76.8,\n",
       "       76.4, 84. , 78.2, 62.4, 82.6, 84.8, 80.8, 80.8, 66.4, 87. , 84. ,\n",
       "       74.6, 71.8, 79.6, 76.4, 84. , 81.2])"
      ]
     },
     "execution_count": 10,
     "metadata": {},
     "output_type": "execute_result"
    }
   ],
   "source": [
    "#實體方法\n",
    "scores.sum(axis=1)\n",
    "scores.mean(axis=1)"
   ]
  }
 ],
 "metadata": {
  "kernelspec": {
   "display_name": "data_repo_1",
   "language": "python",
   "name": "python3"
  },
  "language_info": {
   "codemirror_mode": {
    "name": "ipython",
    "version": 3
   },
   "file_extension": ".py",
   "mimetype": "text/x-python",
   "name": "python",
   "nbconvert_exporter": "python",
   "pygments_lexer": "ipython3",
   "version": "3.12.11"
  }
 },
 "nbformat": 4,
 "nbformat_minor": 5
}
