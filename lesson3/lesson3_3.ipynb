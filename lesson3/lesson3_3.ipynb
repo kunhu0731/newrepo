{
 "cells": [
  {
   "cell_type": "code",
   "execution_count": 4,
   "id": "531325f3",
   "metadata": {},
   "outputs": [
    {
     "name": "stdout",
     "output_type": "stream",
     "text": [
      "梯形面積為: 38.5\n"
     ]
    }
   ],
   "source": [
    "# 梯形上底5公分\n",
    "# 梯形下底10公分\n",
    "# 梯形高2公分\n",
    "\n",
    "top = float(input(\"輸入上底(公分)\"))\n",
    "bottom = float(input(\"輸入下底(公分)\"))\n",
    "tall = float(input(\"輸入高(公分)\"))\n",
    "\n",
    "menseki = (top + bottom) * tall / 2\n",
    "print(\"梯形面積為:\",round(menseki,ndigits = 2))"
   ]
  }
 ],
 "metadata": {
  "kernelspec": {
   "display_name": "base",
   "language": "python",
   "name": "python3"
  },
  "language_info": {
   "codemirror_mode": {
    "name": "ipython",
    "version": 3
   },
   "file_extension": ".py",
   "mimetype": "text/x-python",
   "name": "python",
   "nbconvert_exporter": "python",
   "pygments_lexer": "ipython3",
   "version": "3.13.2"
  }
 },
 "nbformat": 4,
 "nbformat_minor": 5
}
