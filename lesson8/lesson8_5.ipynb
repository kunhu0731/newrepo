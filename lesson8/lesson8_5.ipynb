{
 "cells": [
  {
   "cell_type": "code",
   "execution_count": null,
   "id": "a3f72ea7",
   "metadata": {},
   "outputs": [],
   "source": [
    "def say_hello():\n",
    "    print(\"Hello! 您好\")\n",
    "\n",
    "say_hello()"
   ]
  },
  {
   "cell_type": "code",
   "execution_count": 1,
   "id": "d85fabe0",
   "metadata": {},
   "outputs": [
    {
     "name": "stdout",
     "output_type": "stream",
     "text": [
      "roa! 您好\n"
     ]
    }
   ],
   "source": [
    "def say_hello(name):\n",
    "    print(f\"{name}! 您好\")\n",
    "\n",
    "say_hello(\"roa\")\n"
   ]
  },
  {
   "cell_type": "code",
   "execution_count": null,
   "id": "63838952",
   "metadata": {},
   "outputs": [
    {
     "name": "stdout",
     "output_type": "stream",
     "text": [
      "Robert! 您好\n"
     ]
    }
   ],
   "source": [
    "#型別提示(type hint)\n",
    "def say_hello(name:str)->str:\n",
    "    return f\"{name}! 您好\"\n",
    "\n",
    "print(say_hello(\"Robert\"))"
   ]
  }
 ],
 "metadata": {
  "kernelspec": {
   "display_name": "base",
   "language": "python",
   "name": "python3"
  },
  "language_info": {
   "codemirror_mode": {
    "name": "ipython",
    "version": 3
   },
   "file_extension": ".py",
   "mimetype": "text/x-python",
   "name": "python",
   "nbconvert_exporter": "python",
   "pygments_lexer": "ipython3",
   "version": "3.13.2"
  }
 },
 "nbformat": 4,
 "nbformat_minor": 5
}
