{
 "cells": [
  {
   "cell_type": "code",
   "execution_count": 4,
   "id": "b2e880d5",
   "metadata": {},
   "outputs": [
    {
     "name": "stdout",
     "output_type": "stream",
     "text": [
      "三數總和為 36.0\n"
     ]
    }
   ],
   "source": [
    "value1 = float (input(\"輸入第一個值\"))\n",
    "value2 = float (input(\"輸入第二個值\"))\n",
    "value3 = float (input(\"輸入第三個值\"))\n",
    "total = value1 + value2 + value3\n",
    "print(\"三數總和為\",total)"
   ]
  }
 ],
 "metadata": {
  "language_info": {
   "name": "python"
  }
 },
 "nbformat": 4,
 "nbformat_minor": 5
}
