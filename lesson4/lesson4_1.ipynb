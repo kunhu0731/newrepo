{
 "cells": [
  {
   "cell_type": "code",
   "execution_count": 4,
   "id": "b2e880d5",
   "metadata": {},
   "outputs": [
    {
     "name": "stdout",
     "output_type": "stream",
     "text": [
      "三數總和為 36.0\n"
     ]
    }
   ],
   "source": [
    "value1 = float (input(\"輸入第一個值\"))\n",
    "value2 = float (input(\"輸入第二個值\"))\n",
    "value3 = float (input(\"輸入第三個值\"))\n",
    "total = value1 + value2 + value3\n",
    "print(\"三數總和為\",total)"
   ]
  },
  {
   "cell_type": "code",
   "execution_count": 5,
   "id": "bb607017",
   "metadata": {},
   "outputs": [
    {
     "name": "stdout",
     "output_type": "stream",
     "text": [
      "n= 100\n"
     ]
    }
   ],
   "source": [
    "#複合指定運算子\n",
    "# +=\n",
    "# -=\n",
    "# *=\n",
    "n = 25\n",
    "n += 25\n",
    "n *= 2\n",
    "print(\"n=\",n)"
   ]
  },
  {
   "cell_type": "code",
   "execution_count": 6,
   "id": "0dcf1a4c",
   "metadata": {},
   "outputs": [
    {
     "name": "stdout",
     "output_type": "stream",
     "text": [
      "三數總和為 300.0\n"
     ]
    }
   ],
   "source": [
    "#複合指定運算子\n",
    "\n",
    "total = 0\n",
    "value = float (input(\"輸入第一個值\"))\n",
    "total += value\n",
    "\n",
    "value = float (input(\"輸入第二個值\"))\n",
    "total += value\n",
    "\n",
    "value = float (input(\"輸入第三個值\"))\n",
    "total += value\n",
    "\n",
    "print(\"三數總和為\",total)"
   ]
  },
  {
   "cell_type": "code",
   "execution_count": 7,
   "id": "a51b25e9",
   "metadata": {},
   "outputs": [
    {
     "name": "stdout",
     "output_type": "stream",
     "text": [
      "a= 3.0\n",
      "b= 4.0\n",
      "斜邊c= 5.0\n"
     ]
    }
   ],
   "source": [
    "import math\n",
    "a = float(input(\"請輸入a=\"))\n",
    "b = float(input(\"請輸入b=\"))\n",
    "c = math.sqrt(a ** 2 + b ** 2)\n",
    "print(\"a=\",a)\n",
    "print(\"b=\",b)\n",
    "print(\"斜邊c=\",c)"
   ]
  }
 ],
 "metadata": {
  "language_info": {
   "name": "python"
  }
 },
 "nbformat": 4,
 "nbformat_minor": 5
}
