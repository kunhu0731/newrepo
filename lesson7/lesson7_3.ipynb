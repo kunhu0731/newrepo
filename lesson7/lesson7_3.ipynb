{
 "cells": [
  {
   "cell_type": "markdown",
   "id": "2d7e6c19",
   "metadata": {},
   "source": [
    "#猜數字遊戲"
   ]
  },
  {
   "cell_type": "code",
   "execution_count": null,
   "id": "791ed056",
   "metadata": {},
   "outputs": [],
   "source": [
    "import random\n",
    "\n",
    "guess_value = random.randint(1,100)\n",
    "guess_value"
   ]
  },
  {
   "cell_type": "code",
   "execution_count": null,
   "id": "6eeb85b2",
   "metadata": {},
   "outputs": [
    {
     "name": "stdout",
     "output_type": "stream",
     "text": [
      "==========猜數字遊戲===========\n",
      "\n",
      "第1次沒有猜中!!!\n",
      "第2次沒有猜中!!!\n",
      "第3次沒有猜中!!!\n",
      "第4次沒有猜中!!!\n",
      "第5次沒有猜中!!!\n",
      "第6次沒有猜中!!!\n",
      "第7次沒有猜中!!!\n",
      "第8次沒有猜中!!!\n",
      "第9次沒有猜中!!!\n",
      "第10次沒有猜中!!!\n",
      "賓果!猜對了,答案是:10\n",
      "您猜了11次\n",
      "遊戲結束\n"
     ]
    }
   ],
   "source": [
    "import random\n",
    "\n",
    "min = 1\n",
    "max = 10\n",
    "count = 0\n",
    "guess_value = random.randint(min,max)\n",
    "print(\"==========猜數字遊戲===========\\n\")\n",
    "while(True):\n",
    "    keyin = int(input(f\"猜數字範圍{min}~{max}\"))\n",
    "    count += 1\n",
    "    if keyin >= min and keyin <= 10:\n",
    "        if(keyin == guess_value):\n",
    "            print(f\"賓果!猜對了,答案是:{guess_value}\")\n",
    "            print(f\"您猜了{count}次\")\n",
    "            break\n",
    "        else:\n",
    "            print(f\"第{count}次沒有猜中!!!\")\n",
    "    else:\n",
    "        print(\"請輸入提示範圍內的數字\")\n",
    "\n",
    "print(\"遊戲結束\")"
   ]
  },
  {
   "cell_type": "code",
   "execution_count": 8,
   "id": "31d563b9",
   "metadata": {},
   "outputs": [
    {
     "name": "stdout",
     "output_type": "stream",
     "text": [
      "==========猜數字遊戲===========\n",
      "\n",
      "再小一點!\n",
      "您已經猜1次\n",
      "再大一點\n",
      "您已經猜2次\n",
      "再小一點!\n",
      "您已經猜3次\n",
      "再小一點!\n",
      "您已經猜4次\n",
      "再小一點!\n",
      "您已經猜5次\n",
      "再小一點!\n",
      "您已經猜6次\n",
      "再大一點\n",
      "您已經猜7次\n",
      "賓果!猜對了,答案是:22\n",
      "您猜了8次\n",
      "遊戲結束\n"
     ]
    }
   ],
   "source": [
    "import random\n",
    "\n",
    "min = 1\n",
    "max = 100\n",
    "count = 0\n",
    "guess_value = random.randint(min,max)\n",
    "print(\"==========猜數字遊戲===========\\n\")\n",
    "while(True):\n",
    "    keyin = int(input(f\"猜數字範圍{min}~{max}\"))\n",
    "    count += 1\n",
    "    if keyin >= min and keyin <= max:\n",
    "        if(keyin == guess_value):\n",
    "            print(f\"賓果!猜對了,答案是:{guess_value}\")\n",
    "            print(f\"您猜了{count}次\")\n",
    "            break\n",
    "        elif keyin > guess_value:\n",
    "            print(\"再小一點!\")\n",
    "            max = keyin - 1\n",
    "        \n",
    "        else:\n",
    "            print(\"再大一點\")\n",
    "            min = keyin + 1\n",
    "\n",
    "        print(f\"您已經猜{count}次\")\n",
    "        \n",
    "    else:\n",
    "        print(\"請輸入提示範圍內的數字\")\n",
    "\n",
    "print(\"遊戲結束\")"
   ]
  }
 ],
 "metadata": {
  "kernelspec": {
   "display_name": "base",
   "language": "python",
   "name": "python3"
  },
  "language_info": {
   "codemirror_mode": {
    "name": "ipython",
    "version": 3
   },
   "file_extension": ".py",
   "mimetype": "text/x-python",
   "name": "python",
   "nbconvert_exporter": "python",
   "pygments_lexer": "ipython3",
   "version": "3.13.2"
  }
 },
 "nbformat": 4,
 "nbformat_minor": 5
}
